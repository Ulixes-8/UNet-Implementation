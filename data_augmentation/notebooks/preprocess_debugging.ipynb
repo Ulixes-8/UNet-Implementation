{
 "cells": [
  {
   "cell_type": "code",
   "execution_count": 32,
   "metadata": {},
   "outputs": [],
   "source": [
    "# ------------------------------\n",
    "# Cell 1: Imports and Path Setup\n",
    "# ------------------------------\n",
    "from pathlib import Path\n",
    "import cv2\n",
    "import numpy as np\n",
    "\n",
    "BASE_DIR = Path(\"/home/ulixes/segmentation_cv/data_augmentation/data/processed\")\n",
    "\n",
    "paths_to_check = {\n",
    "    \"Train\": {\n",
    "        \"images\": BASE_DIR / \"Train\" / \"resized\",\n",
    "        \"masks\": BASE_DIR / \"Train\" / \"resized_label\"\n",
    "    },\n",
    "    \"Val\": {\n",
    "        \"images\": BASE_DIR / \"Val\" / \"resized\",\n",
    "        \"masks\": None  # No mask checking for Val\n",
    "    },\n",
    "    \"Test\": {\n",
    "        \"images\": BASE_DIR / \"Test\" / \"resized\",\n",
    "        \"masks\": None  # No mask checking for Test\n",
    "    }\n",
    "}\n"
   ]
  },
  {
   "cell_type": "code",
   "execution_count": 33,
   "metadata": {},
   "outputs": [],
   "source": [
    "# ------------------------------\n",
    "# Cell 2: Verification Function\n",
    "# ------------------------------\n",
    "def verify_resized_images(image_dir, mask_dir=None):\n",
    "    image_paths = sorted(image_dir.glob(\"*.jpg\"))\n",
    "    total_images = len(image_paths)\n",
    "    passed_images = 0\n",
    "\n",
    "    for img_path in image_paths:\n",
    "        # Load image and verify dimensions\n",
    "        img = cv2.imread(str(img_path))\n",
    "        if img is None:\n",
    "            print(f\"❌ Failed to load image: {img_path}\")\n",
    "            continue\n",
    "\n",
    "        if img.shape[:2] != (512, 512):\n",
    "            print(f\"❌ Incorrect image shape {img.shape[:2]}: {img_path}\")\n",
    "            continue\n",
    "\n",
    "        if mask_dir:\n",
    "            mask_path = mask_dir / img_path.name.replace(\".jpg\", \".png\")\n",
    "            if not mask_path.exists():\n",
    "                print(f\"❌ Missing mask for: {img_path.name}\")\n",
    "                continue\n",
    "\n",
    "            mask = cv2.imread(str(mask_path), cv2.IMREAD_UNCHANGED)\n",
    "            if mask is None:\n",
    "                print(f\"❌ Failed to read mask: {mask_path}\")\n",
    "                continue\n",
    "\n",
    "            if mask.ndim == 3:\n",
    "                mask = mask[:, :, 0]\n",
    "\n",
    "            if mask.shape[:2] != (512, 512):\n",
    "                print(f\"❌ Incorrect mask shape {mask.shape[:2]}: {mask_path}\")\n",
    "                continue\n",
    "\n",
    "            unique_vals = np.unique(mask)\n",
    "            if not (np.array_equal(unique_vals, [0, 1, 255]) or np.array_equal(unique_vals, [0, 2, 255])):\n",
    "                print(f\"⚠️ Unexpected mask values in {mask_path.name}: {unique_vals}\")\n",
    "                continue\n",
    "\n",
    "        passed_images += 1\n",
    "\n",
    "    return total_images, passed_images\n"
   ]
  },
  {
   "cell_type": "code",
   "execution_count": 34,
   "metadata": {},
   "outputs": [
    {
     "name": "stdout",
     "output_type": "stream",
     "text": [
      "\n",
      "🔍 Checking Train set...\n",
      "📦 Total images found: 2939\n",
      "✅ Passed checks: 2939\n",
      "🧮 Coverage: 2939/2939 (100.00%)\n",
      "\n",
      "🔍 Checking Val set...\n",
      "📦 Total images found: 734\n",
      "✅ Passed checks: 734\n",
      "🧮 Coverage: 734/734 (100.00%)\n",
      "\n",
      "🔍 Checking Test set...\n",
      "📦 Total images found: 3694\n",
      "✅ Passed checks: 3694\n",
      "🧮 Coverage: 3694/3694 (100.00%)\n",
      "\n",
      "🎉 Done!\n"
     ]
    }
   ],
   "source": [
    "# ------------------------------\n",
    "# Cell 3: Run Checks and Print Summary\n",
    "# ------------------------------\n",
    "for split, paths in paths_to_check.items():\n",
    "    print(f\"\\n🔍 Checking {split} set...\")\n",
    "\n",
    "    total, passed = verify_resized_images(paths[\"images\"], paths[\"masks\"])\n",
    "    \n",
    "    print(f\"📦 Total images found: {total}\")\n",
    "    print(f\"✅ Passed checks: {passed}\")\n",
    "    print(f\"🧮 Coverage: {passed}/{total} ({(passed / total * 100):.2f}%)\")\n",
    "\n",
    "print(\"\\n🎉 Done!\")\n"
   ]
  }
 ],
 "metadata": {
  "kernelspec": {
   "display_name": "venv",
   "language": "python",
   "name": "python3"
  },
  "language_info": {
   "codemirror_mode": {
    "name": "ipython",
    "version": 3
   },
   "file_extension": ".py",
   "mimetype": "text/x-python",
   "name": "python",
   "nbconvert_exporter": "python",
   "pygments_lexer": "ipython3",
   "version": "3.12.3"
  }
 },
 "nbformat": 4,
 "nbformat_minor": 2
}
